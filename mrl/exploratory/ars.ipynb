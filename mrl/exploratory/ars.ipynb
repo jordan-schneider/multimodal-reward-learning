{
 "cells": [
  {
   "cell_type": "code",
   "execution_count": 2,
   "metadata": {},
   "outputs": [],
   "source": [
    "import numpy as np\n",
    "import os\n",
    "from mrl.util import normalize_vecs\n",
    "from typing import Dict"
   ]
  },
  {
   "cell_type": "code",
   "execution_count": 3,
   "metadata": {},
   "outputs": [
    {
     "data": {
      "text/plain": [
       "'/home/joschnei/multimodal-reward-learning/data/miner/near-original-reward/7'"
      ]
     },
     "execution_count": 3,
     "metadata": {},
     "output_type": "execute_result"
    }
   ],
   "source": [
    "os.chdir('/home/joschnei/multimodal-reward-learning/data/miner/near-original-reward/7')\n",
    "os.getcwd()"
   ]
  },
  {
   "cell_type": "code",
   "execution_count": 4,
   "metadata": {},
   "outputs": [
    {
     "name": "stdout",
     "output_type": "stream",
     "text": [
      "state ARS shape=(42, 4)\n",
      "traj ARS shape=(154, 4)\n",
      "mixed ARS shape=(104, 4)\n",
      "reward=array([ 0.70359754, -0.70359754, -0.07035975, -0.07035975])\n"
     ]
    }
   ],
   "source": [
    "state = np.load('ars.state.npy')\n",
    "traj = np.load('ars.traj.npy')\n",
    "mixed = np.load('ars.mixed.npy')\n",
    "\n",
    "reward = np.load('reward.npy')\n",
    "\n",
    "print(f\"state ARS shape={state.shape}\")\n",
    "print(f\"traj ARS shape={traj.shape}\")\n",
    "print(f\"mixed ARS shape={mixed.shape}\")\n",
    "print(f\"{reward=}\")\n",
    "\n",
    "# Sanity check that all ARS agree with gt reward\n",
    "assert np.all(state @ reward > 0)\n",
    "assert np.all(traj @ reward > 0)\n",
    "assert np.all(mixed @ reward > 0)"
   ]
  },
  {
   "cell_type": "code",
   "execution_count": 5,
   "metadata": {},
   "outputs": [],
   "source": [
    "rng = np.random.default_rng()\n",
    "\n",
    "# uniform dataset\n",
    "n_samples = 100_000_000\n",
    "samples = rng.standard_normal(size=(n_samples, state.shape[1]))\n",
    "samples = np.concatenate((samples, [reward]))\n",
    "samples = normalize_vecs(samples)\n",
    "assert np.abs(np.linalg.norm(samples[0]) - 1) < 1e-3\n",
    "\n",
    "# Make \"epsilon ball\" around gt reward\n",
    "def make_near_reward(reward: np.ndarray, n_random: int = 100, epsilon: float = 1e-8, rng: np.random.Generator = np.random.default_rng()) -> np.ndarray:\n",
    "\tout = []\n",
    "\tfor i in range(reward.shape[0]):\n",
    "\t\tnew = reward.copy()\n",
    "\t\tnew[i] += epsilon\n",
    "\t\tout.append(new)\n",
    "\t\tnew = reward.copy()\n",
    "\t\tnew[i] -= epsilon\n",
    "\t\tout.append(new)\n",
    "\t\n",
    "\tout = np.stack(out)\n",
    "\n",
    "\tperturbations = rng.normal(loc=0, scale=epsilon, size=(n_random, reward.shape[0]))\n",
    "\tout = np.concatenate((out, reward+perturbations))\n",
    "\n",
    "\treturn out"
   ]
  },
  {
   "cell_type": "code",
   "execution_count": 6,
   "metadata": {},
   "outputs": [],
   "source": [
    "def volume(diffs: np.ndarray, samples: np.ndarray) -> float:\n",
    "\tsamples_in = np.all((diffs @ samples.T) > 0, axis=0)\n",
    "\treturn np.mean(samples_in)"
   ]
  },
  {
   "cell_type": "code",
   "execution_count": 7,
   "metadata": {},
   "outputs": [
    {
     "name": "stdout",
     "output_type": "stream",
     "text": [
      "Volume of samples in state: 1.5399999846000003e-06\n",
      "Volume of samples in traj: 9.9999999e-09\n",
      "Volume of samples in mixed: 9.9999999e-09\n"
     ]
    }
   ],
   "source": [
    "print(f\"Volume of samples in state: {volume(state, samples)}\")\n",
    "print(f\"Volume of samples in traj: {volume(traj, samples)}\")\n",
    "print(f\"Volume of samples in mixed: {volume(mixed, samples)}\")"
   ]
  },
  {
   "cell_type": "code",
   "execution_count": 8,
   "metadata": {},
   "outputs": [
    {
     "name": "stdout",
     "output_type": "stream",
     "text": [
      "epsilon=1e-08, state volume=1.0, traj volume=1.0, mixed volume=1.0\n",
      "epsilon=1e-07, state volume=1.0, traj volume=1.0, mixed volume=1.0\n",
      "epsilon=1e-06, state volume=1.0, traj volume=1.0, mixed volume=1.0\n",
      "epsilon=1e-05, state volume=1.0, traj volume=0.9814814814814815, mixed volume=0.8333333333333334\n",
      "epsilon=0.0001, state volume=1.0, traj volume=0.19444444444444445, mixed volume=0.3333333333333333\n",
      "epsilon=0.001, state volume=1.0, traj volume=0.046296296296296294, mixed volume=0.046296296296296294\n",
      "epsilon=0.01, state volume=0.48148148148148145, traj volume=0.037037037037037035, mixed volume=0.037037037037037035\n",
      "epsilon=0.1, state volume=0.0, traj volume=0.0, mixed volume=0.0\n",
      "epsilon=1.0, state volume=0.0, traj volume=0.0, mixed volume=0.0\n"
     ]
    }
   ],
   "source": [
    "for epsilon in np.logspace(-8, 0, base=10, num=9):\n",
    "\tnear_reward = normalize_vecs(make_near_reward(reward, epsilon=epsilon))\n",
    "\tprint(f\"epsilon={epsilon}, state volume={volume(state, near_reward)}, traj volume={volume(traj, near_reward)}, mixed volume={volume(mixed, near_reward)}\")"
   ]
  },
  {
   "cell_type": "code",
   "execution_count": 9,
   "metadata": {},
   "outputs": [],
   "source": [
    "def set_op_stats(first: np.ndarray, second: np.ndarray, samples: np.ndarray) -> Dict[str, np.ndarray]:\n",
    "\tin_first = np.all((first @ samples.T) > 0, axis=0)\n",
    "\tin_second = np.all((second @ samples.T) > 0, axis=0)\n",
    "\tintersection = np.logical_and(in_first, in_second)\n",
    "\tunion = np.logical_or(in_first, in_second)\n",
    "\tfirst_minus_second = np.logical_and(in_first, np.logical_not(in_second))\n",
    "\tsecond_minus_first = np.logical_and(in_second, np.logical_not(in_first))\n",
    "\tin_neither = np.logical_not(union)\n",
    "\treturn {\n",
    "\t\t\"intersection\": np.mean(intersection),\n",
    "\t\t\"union\": np.mean(union),\n",
    "\t\t\"first_minus_second\": np.mean(first_minus_second),\n",
    "\t\t\"second_minus_first\": np.mean(second_minus_first),\n",
    "\t\t\"neither\": np.mean(in_neither)\n",
    "\t}"
   ]
  },
  {
   "cell_type": "code",
   "execution_count": 10,
   "metadata": {},
   "outputs": [
    {
     "name": "stdout",
     "output_type": "stream",
     "text": [
      "Set ops state traj: {'intersection': 9.9999999e-09, 'union': 1.5399999846000003e-06, 'first_minus_second': 1.5299999847000002e-06, 'second_minus_first': 0.0, 'neither': 0.9999984600000154}\n",
      "Set ops state mixed: {'intersection': 9.9999999e-09, 'union': 1.5399999846000003e-06, 'first_minus_second': 1.5299999847000002e-06, 'second_minus_first': 0.0, 'neither': 0.9999984600000154}\n",
      "Set ops traj mixed: {'intersection': 9.9999999e-09, 'union': 9.9999999e-09, 'first_minus_second': 0.0, 'second_minus_first': 0.0, 'neither': 0.9999999900000001}\n"
     ]
    }
   ],
   "source": [
    "print(f\"Set ops state traj: {set_op_stats(state, traj, samples)}\")\n",
    "print(f\"Set ops state mixed: {set_op_stats(state, mixed, samples)}\")\n",
    "print(f\"Set ops traj mixed: {set_op_stats(traj, mixed, samples)}\")"
   ]
  },
  {
   "cell_type": "code",
   "execution_count": 11,
   "metadata": {},
   "outputs": [
    {
     "name": "stdout",
     "output_type": "stream",
     "text": [
      "epsilon=1e-05\n",
      "Set ops state traj: {'intersection': 0.9537037037037037, 'union': 1.0, 'first_minus_second': 0.046296296296296294, 'second_minus_first': 0.0, 'neither': 0.0}\n",
      "Set ops state mixed: {'intersection': 0.9074074074074074, 'union': 1.0, 'first_minus_second': 0.09259259259259259, 'second_minus_first': 0.0, 'neither': 0.0}\n",
      "Set ops traj mixed: {'intersection': 0.8888888888888888, 'union': 0.9722222222222222, 'first_minus_second': 0.06481481481481481, 'second_minus_first': 0.018518518518518517, 'neither': 0.027777777777777776}\n",
      "epsilon=0.0001\n",
      "Set ops state traj: {'intersection': 0.19444444444444445, 'union': 1.0, 'first_minus_second': 0.8055555555555556, 'second_minus_first': 0.0, 'neither': 0.0}\n",
      "Set ops state mixed: {'intersection': 0.39814814814814814, 'union': 1.0, 'first_minus_second': 0.6018518518518519, 'second_minus_first': 0.0, 'neither': 0.0}\n",
      "Set ops traj mixed: {'intersection': 0.17592592592592593, 'union': 0.4166666666666667, 'first_minus_second': 0.018518518518518517, 'second_minus_first': 0.2222222222222222, 'neither': 0.5833333333333334}\n",
      "epsilon=0.001\n",
      "Set ops state traj: {'intersection': 0.046296296296296294, 'union': 1.0, 'first_minus_second': 0.9537037037037037, 'second_minus_first': 0.0, 'neither': 0.0}\n",
      "Set ops state mixed: {'intersection': 0.037037037037037035, 'union': 1.0, 'first_minus_second': 0.9629629629629629, 'second_minus_first': 0.0, 'neither': 0.0}\n",
      "Set ops traj mixed: {'intersection': 0.037037037037037035, 'union': 0.046296296296296294, 'first_minus_second': 0.009259259259259259, 'second_minus_first': 0.0, 'neither': 0.9537037037037037}\n",
      "epsilon=0.01\n",
      "Set ops state traj: {'intersection': 0.037037037037037035, 'union': 0.4166666666666667, 'first_minus_second': 0.37962962962962965, 'second_minus_first': 0.0, 'neither': 0.5833333333333334}\n",
      "Set ops state mixed: {'intersection': 0.037037037037037035, 'union': 0.4166666666666667, 'first_minus_second': 0.37962962962962965, 'second_minus_first': 0.0, 'neither': 0.5833333333333334}\n",
      "Set ops traj mixed: {'intersection': 0.037037037037037035, 'union': 0.037037037037037035, 'first_minus_second': 0.0, 'second_minus_first': 0.0, 'neither': 0.9629629629629629}\n",
      "epsilon=0.1\n",
      "Set ops state traj: {'intersection': 0.0, 'union': 0.009259259259259259, 'first_minus_second': 0.009259259259259259, 'second_minus_first': 0.0, 'neither': 0.9907407407407407}\n",
      "Set ops state mixed: {'intersection': 0.0, 'union': 0.009259259259259259, 'first_minus_second': 0.009259259259259259, 'second_minus_first': 0.0, 'neither': 0.9907407407407407}\n",
      "Set ops traj mixed: {'intersection': 0.0, 'union': 0.0, 'first_minus_second': 0.0, 'second_minus_first': 0.0, 'neither': 1.0}\n"
     ]
    }
   ],
   "source": [
    "for epsilon in np.logspace(-5, -1, base=10, num=5):\n",
    "\tprint(f\"{epsilon=}\")\n",
    "\tnear_reward = normalize_vecs(make_near_reward(reward, epsilon=epsilon))\n",
    "\tprint(f\"Set ops state traj: {set_op_stats(state, traj, near_reward)}\")\n",
    "\tprint(f\"Set ops state mixed: {set_op_stats(state, mixed, near_reward)}\")\n",
    "\tprint(f\"Set ops traj mixed: {set_op_stats(traj, mixed, near_reward)}\")"
   ]
  }
 ],
 "metadata": {
  "interpreter": {
   "hash": "a7070685d2679eb7537d1f9db921b408777b63e0dfdd1c392113fbab1062fd6b"
  },
  "kernelspec": {
   "display_name": "Python 3.8.2 ('mrl')",
   "language": "python",
   "name": "python3"
  },
  "language_info": {
   "codemirror_mode": {
    "name": "ipython",
    "version": 3
   },
   "file_extension": ".py",
   "mimetype": "text/x-python",
   "name": "python",
   "nbconvert_exporter": "python",
   "pygments_lexer": "ipython3",
   "version": "3.8.2"
  },
  "orig_nbformat": 4
 },
 "nbformat": 4,
 "nbformat_minor": 2
}
